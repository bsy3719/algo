{
 "cells": [
  {
   "cell_type": "code",
   "execution_count": null,
   "metadata": {},
   "outputs": [],
   "source": [
    "7\n",
    "0110100\n",
    "0110101\n",
    "1110101\n",
    "0000111\n",
    "0100000\n",
    "0111110\n",
    "0111000"
   ]
  },
  {
   "cell_type": "code",
   "execution_count": 23,
   "metadata": {},
   "outputs": [
    {
     "name": "stdin",
     "output_type": "stream",
     "text": [
      " 2\n",
      " 0000000\n",
      " 0000000\n"
     ]
    }
   ],
   "source": [
    "n = int(input())\n",
    "matrix = []\n",
    "for _ in range(n):\n",
    "    row = list(map(int, input()))\n",
    "    matrix.append(row)"
   ]
  },
  {
   "cell_type": "code",
   "execution_count": 24,
   "metadata": {},
   "outputs": [
    {
     "data": {
      "text/plain": [
       "[[0, 0, 0, 0, 0, 0, 0], [0, 0, 0, 0, 0, 0, 0]]"
      ]
     },
     "execution_count": 24,
     "metadata": {},
     "output_type": "execute_result"
    }
   ],
   "source": [
    "matrix"
   ]
  },
  {
   "cell_type": "code",
   "execution_count": null,
   "metadata": {},
   "outputs": [],
   "source": [
    "dx = [-1, 0, 1, 0]\n",
    "dy = [0, 1, 0, -1]\n",
    "\n",
    "start = (0,0)\n",
    "goal = (n-1, m-1)\n",
    "next_pos = []\n",
    "next_pos.append(start)\n",
    "while next_pos:\n",
    "    x,y = next_pos.pop(0)\n",
    "    value = lines[x][y]\n",
    "    for i in range(4):\n",
    "        temp_x = x + dx[i]\n",
    "        temp_y = y + dy[i]\n",
    "        \n",
    "        # 리스트의 사이즈가 더 큰 경우\n",
    "        if temp_x < 0 or temp_y < 0 or temp_x >= n or temp_y >=m:\n",
    "            continue\n",
    "            \n",
    "        temp_value = lines[temp_x][temp_y]\n",
    "        \n",
    "        # 벽    \n",
    "        if temp_value < 1:\n",
    "            continue\n",
    "            \n",
    "        # 현재 진행 경로가 더 적은 value일 경우\n",
    "        if temp_value == 1 or value + 1 < temp_value:\n",
    "            lines[temp_x][temp_y] = value + 1\n",
    "            next_pos.append((temp_x, temp_y))"
   ]
  }
 ],
 "metadata": {
  "kernelspec": {
   "display_name": "Python 3",
   "language": "python",
   "name": "python3"
  },
  "language_info": {
   "codemirror_mode": {
    "name": "ipython",
    "version": 3
   },
   "file_extension": ".py",
   "mimetype": "text/x-python",
   "name": "python",
   "nbconvert_exporter": "python",
   "pygments_lexer": "ipython3",
   "version": "3.7.3"
  }
 },
 "nbformat": 4,
 "nbformat_minor": 2
}
