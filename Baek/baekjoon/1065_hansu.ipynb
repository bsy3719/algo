{
 "cells": [
  {
   "cell_type": "code",
   "execution_count": null,
   "metadata": {},
   "outputs": [],
   "source": [
    "import sys\n",
    "\n",
    "n = int(sys.stdin.readline())\n",
    "\n",
    "if n < 100:\n",
    "    print(n)\n",
    "else:\n",
    "    cnt = 99\n",
    "    for i in range(100,n+1):\n",
    "        difference = []\n",
    "        for j in range(len(str(i))-1):\n",
    "            difference.append(int(str(i)[j])-int(str(i)[j+1]))\n",
    "        if difference.count(difference[0]) == len(str(i))-1:\n",
    "            cnt += 1\n",
    "    print(cnt)"
   ]
  }
 ],
 "metadata": {
  "kernelspec": {
   "display_name": "Python 3",
   "language": "python",
   "name": "python3"
  },
  "language_info": {
   "codemirror_mode": {
    "name": "ipython",
    "version": 3
   },
   "file_extension": ".py",
   "mimetype": "text/x-python",
   "name": "python",
   "nbconvert_exporter": "python",
   "pygments_lexer": "ipython3",
   "version": "3.7.3"
  }
 },
 "nbformat": 4,
 "nbformat_minor": 2
}
