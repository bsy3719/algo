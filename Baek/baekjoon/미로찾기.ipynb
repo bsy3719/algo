{
 "cells": [
  {
   "cell_type": "code",
   "execution_count": null,
   "metadata": {},
   "outputs": [],
   "source": [
    "n, m = map(int, input().split())\n",
    "lines = []\n",
    "for i in range(n):\n",
    "    line = list(map(int, input()))\n",
    "    lines.append(line)\n",
    "\n",
    "#[-1,0] 왼쪽\n",
    "#[0, 1] 아래쪽\n",
    "#[1, 0] 오른쪽\n",
    "#[0,-1] 위쪽\n",
    "\n",
    "dx = [-1, 0, 1, 0]\n",
    "dy = [0, 1, 0, -1]\n",
    "\n",
    "start = (0,0)\n",
    "goal = (n-1, m-1)\n",
    "next_pos = []\n",
    "next_pos.append(start)\n",
    "while next_pos:\n",
    "    x,y = next_pos.pop(0)\n",
    "    value = lines[x][y]\n",
    "    for i in range(4):\n",
    "        temp_x = x + dx[i]\n",
    "        temp_y = y + dy[i]\n",
    "        \n",
    "        # 리스트의 사이즈가 더 큰 경우\n",
    "        if temp_x < 0 or temp_y < 0 or temp_x >= n or temp_y >=m:\n",
    "            continue\n",
    "            \n",
    "        temp_value = lines[temp_x][temp_y]\n",
    "        \n",
    "        # 벽    \n",
    "        if temp_value < 1:\n",
    "            continue\n",
    "            \n",
    "        # 현재 진행 경로가 더 적은 value일 경우\n",
    "        if temp_value == 1 or value + 1 < temp_value:\n",
    "            lines[temp_x][temp_y] = value + 1\n",
    "            next_pos.append((temp_x, temp_y))\n",
    "            \n",
    "print(lines[goal[0]][goal[1]])"
   ]
  }
 ],
 "metadata": {
  "kernelspec": {
   "display_name": "Python 3",
   "language": "python",
   "name": "python3"
  },
  "language_info": {
   "codemirror_mode": {
    "name": "ipython",
    "version": 3
   },
   "file_extension": ".py",
   "mimetype": "text/x-python",
   "name": "python",
   "nbconvert_exporter": "python",
   "pygments_lexer": "ipython3",
   "version": "3.7.3"
  }
 },
 "nbformat": 4,
 "nbformat_minor": 2
}
