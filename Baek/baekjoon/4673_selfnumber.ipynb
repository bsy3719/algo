{
 "cells": [
  {
   "cell_type": "code",
   "execution_count": null,
   "metadata": {},
   "outputs": [],
   "source": [
    "natural_number_set = set(range(1, 10001))\n",
    "generated_number_set= set()\n",
    "\n",
    "for i in range(1, 10001):\n",
    "    for j in str(i):\n",
    "        i += int(j)\n",
    "    generated_number_set.add(i)\n",
    "\n",
    "self_number_set = natural_number_set - generated_number_set\n",
    "\n",
    "for i in sorted(self_number_set):\n",
    "    print(i)"
   ]
  }
 ],
 "metadata": {
  "kernelspec": {
   "display_name": "Python 3",
   "language": "python",
   "name": "python3"
  },
  "language_info": {
   "codemirror_mode": {
    "name": "ipython",
    "version": 3
   },
   "file_extension": ".py",
   "mimetype": "text/x-python",
   "name": "python",
   "nbconvert_exporter": "python",
   "pygments_lexer": "ipython3",
   "version": "3.7.3"
  }
 },
 "nbformat": 4,
 "nbformat_minor": 2
}
