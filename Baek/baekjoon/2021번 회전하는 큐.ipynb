{
 "cells": [
  {
   "cell_type": "code",
   "execution_count": null,
   "metadata": {},
   "outputs": [],
   "source": []
  },
  {
   "cell_type": "code",
   "execution_count": null,
   "metadata": {},
   "outputs": [],
   "source": [
    "n, m = map(int, input().split())\n",
    "\n",
    "q = [x for x in range(1, n+1)]\n",
    "\n",
    "count = 0\n",
    "\n",
    "l = list(map(int, input().split()))\n",
    "    \n",
    "for i in l:\n",
    "    \n",
    "    while True:\n",
    "        \n",
    "        if q[0] == i:\n",
    "            q.remove(i)\n",
    "            break\n",
    "            \n",
    "        index = q.index(i)\n",
    "        length = len(q)\n",
    "        \n",
    "        if index <= length//2:\n",
    "            temp = q.pop(0)\n",
    "            q.append(temp)\n",
    "            count+=1\n",
    "        else:\n",
    "            temp = q.pop()\n",
    "            q.insert(0, temp)\n",
    "            count+=1\n",
    "            \n",
    "print(count)"
   ]
  },
  {
   "cell_type": "code",
   "execution_count": null,
   "metadata": {},
   "outputs": [],
   "source": [
    "27 16 30 11 6 23"
   ]
  }
 ],
 "metadata": {
  "kernelspec": {
   "display_name": "Python 3",
   "language": "python",
   "name": "python3"
  },
  "language_info": {
   "codemirror_mode": {
    "name": "ipython",
    "version": 3
   },
   "file_extension": ".py",
   "mimetype": "text/x-python",
   "name": "python",
   "nbconvert_exporter": "python",
   "pygments_lexer": "ipython3",
   "version": "3.6.6"
  }
 },
 "nbformat": 4,
 "nbformat_minor": 2
}
