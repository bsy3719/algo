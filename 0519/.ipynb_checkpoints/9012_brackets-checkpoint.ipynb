{
 "cells": [
  {
   "cell_type": "markdown",
   "metadata": {},
   "source": [
    "[9012_괄호](괄호)"
   ]
  },
  {
   "cell_type": "code",
   "execution_count": null,
   "metadata": {},
   "outputs": [],
   "source": [
    "n = int(input())\n",
    "result = []\n",
    "\n",
    "for _ in range(n):\n",
    "    l = input()\n",
    "    stack = []\n",
    "    for i, c in enumerate(l):\n",
    "        if c == '(':\n",
    "            stack.append(c)\n",
    "        elif c == ')':ㄴ\n",
    "            try:\n",
    "                temp = stack.pop()\n",
    "                if temp != '(':\n",
    "                    result.append('NO')\n",
    "                    break\n",
    "            except:\n",
    "                result.append('NO')\n",
    "                break\n",
    "                \n",
    "        if i == len(l)-1 and len(stack) == 0:\n",
    "            result.append('YES')\n",
    "        elif i == len(l)-1 and len(stack) != 0:\n",
    "            result.append('NO')\n",
    "            \n",
    "for r in result:\n",
    "    print(r)"
   ]
  },
  {
   "cell_type": "markdown",
   "metadata": {},
   "source": [
    "6\n",
    "(())())\n",
    "(((()())()\n",
    "(()())((()))\n",
    "((()()(()))(((())))()\n",
    "()()()()(()()())()\n",
    "(()((())()("
   ]
  },
  {
   "cell_type": "code",
   "execution_count": 33,
   "metadata": {},
   "outputs": [
    {
     "data": {
      "text/plain": [
       "['NO', 'NO', 'YES', 'NO', 'YES', 'NO']"
      ]
     },
     "execution_count": 33,
     "metadata": {},
     "output_type": "execute_result"
    }
   ],
   "source": [
    "result"
   ]
  }
 ],
 "metadata": {
  "kernelspec": {
   "display_name": "Python 3",
   "language": "python",
   "name": "python3"
  },
  "language_info": {
   "codemirror_mode": {
    "name": "ipython",
    "version": 3
   },
   "file_extension": ".py",
   "mimetype": "text/x-python",
   "name": "python",
   "nbconvert_exporter": "python",
   "pygments_lexer": "ipython3",
   "version": "3.6.6"
  }
 },
 "nbformat": 4,
 "nbformat_minor": 2
}
